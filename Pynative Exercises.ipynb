{
 "cells": [
  {
   "cell_type": "markdown",
   "id": "ba238bf2",
   "metadata": {},
   "source": [
    "### Exercise 1: Calculate the multiplication and sum of two numbers\n",
    "\n",
    "#### Given two integer numbers return their product only if the product is equal to or lower than 1000, else return their sum."
   ]
  },
  {
   "cell_type": "code",
   "execution_count": null,
   "id": "f70807f7",
   "metadata": {},
   "outputs": [],
   "source": [
    "num1 = int(input('Enter 1st num: '))\n",
    "num2 = int(input('Enter 2nd num: '))\n",
    "\n",
    "def check(num1,num2):\n",
    "    if num1*num2 <= 1000:\n",
    "        return num1*num2\n",
    "    else:\n",
    "        return num1+num2\n",
    "    \n",
    "check(num1,num2)"
   ]
  },
  {
   "cell_type": "markdown",
   "id": "e4cc542e",
   "metadata": {},
   "source": [
    "### Exercise 2: Print the sum of the current number and the previous number\n",
    "#### Write a program to iterate the first 10 numbers and in each iteration, print the sum of the current and previous number."
   ]
  },
  {
   "cell_type": "code",
   "execution_count": 6,
   "id": "ce2955d8",
   "metadata": {},
   "outputs": [
    {
     "name": "stdout",
     "output_type": "stream",
     "text": [
      "Current number:  0   Previous number:  0   Sum:  0  \n",
      "Current number:  1   Previous number:  0   Sum:  1  \n",
      "Current number:  2   Previous number:  1   Sum:  3  \n",
      "Current number:  3   Previous number:  2   Sum:  5  \n",
      "Current number:  4   Previous number:  3   Sum:  7  \n",
      "Current number:  5   Previous number:  4   Sum:  9  \n",
      "Current number:  6   Previous number:  5   Sum:  11 \n",
      "Current number:  7   Previous number:  6   Sum:  13 \n",
      "Current number:  8   Previous number:  7   Sum:  15 \n",
      "Current number:  9   Previous number:  8   Sum:  17 \n"
     ]
    }
   ],
   "source": [
    "for i in range(10):\n",
    "    if i == 0:\n",
    "        print(f'Current number: {i:^4} Previous number: {i:^4} Sum: {i:^4}')\n",
    "    else:\n",
    "        print(f'Current number: {i:^4} Previous number: {i-1:^4} Sum: {i+i-1:^4}')"
   ]
  },
  {
   "cell_type": "markdown",
   "id": "8a820264",
   "metadata": {},
   "source": [
    "### Exercise 3: Print characters from a string that are present at an even index number\n",
    "#### Write a program to accept a string from the user and display characters that are present at an even index number."
   ]
  },
  {
   "cell_type": "code",
   "execution_count": 3,
   "id": "225ecceb",
   "metadata": {},
   "outputs": [
    {
     "name": "stdout",
     "output_type": "stream",
     "text": [
      "Enter the string: pynative\n",
      "Even index char:\n",
      "p\n",
      "n\n",
      "t\n",
      "v\n"
     ]
    }
   ],
   "source": [
    "string = input('Enter the string: ')\n",
    "print('Even index char:',*string[::2],sep='\\n')"
   ]
  },
  {
   "cell_type": "markdown",
   "id": "3c67a87c",
   "metadata": {},
   "source": [
    "### Exercise 4: Remove first n characters from a string\n",
    "#### Write a program to remove characters from a string starting from zero up to n and return a new string."
   ]
  },
  {
   "cell_type": "code",
   "execution_count": 6,
   "id": "e9a37677",
   "metadata": {},
   "outputs": [
    {
     "name": "stdout",
     "output_type": "stream",
     "text": [
      "Enter the string: pynative\n",
      "Enter the num: 2\n",
      "After removing characters: native\n"
     ]
    }
   ],
   "source": [
    "def remove_char(string,num):\n",
    "    return string[num:]\n",
    "\n",
    "string = input('Enter the string: ')\n",
    "num = int(input('Enter the num: '))\n",
    "print('After removing characters:',remove_char(string,num))"
   ]
  },
  {
   "cell_type": "markdown",
   "id": "57fb4eb8",
   "metadata": {},
   "source": [
    "### Exercise 5: Check if the first and last number of a list is the same\n",
    "#### Write a function to return True if the first and last number of a given list is same. If numbers are different then return False."
   ]
  },
  {
   "cell_type": "code",
   "execution_count": 2,
   "id": "b793046a",
   "metadata": {},
   "outputs": [
    {
     "name": "stdout",
     "output_type": "stream",
     "text": [
      "Enter the length of list:5\n",
      "10\n",
      "20\n",
      "30\n",
      "40\n",
      "10\n",
      "[10, 20, 30, 40, 10]\n",
      "True\n"
     ]
    }
   ],
   "source": [
    "num_list=[]\n",
    "n = int(input('Enter the length of list:'))\n",
    "for num in range(n):\n",
    "    num_list.append(int(input()))\n",
    "\n",
    "def check(num_list):\n",
    "    if num_list[0] == num_list[-1]:\n",
    "        return True\n",
    "    else: \n",
    "        return False\n",
    "\n",
    "print(num_list)\n",
    "print(check(num_list))"
   ]
  },
  {
   "cell_type": "markdown",
   "id": "9e4d4359",
   "metadata": {},
   "source": [
    "### Exercise 6: Display numbers divisible by 5 from a list\n",
    "#### Iterate the given list of numbers and print only those numbers which are divisible by 5"
   ]
  },
  {
   "cell_type": "code",
   "execution_count": 19,
   "id": "93b9b8eb",
   "metadata": {},
   "outputs": [
    {
     "name": "stdout",
     "output_type": "stream",
     "text": [
      "Enter the length of list:5\n",
      "10\n",
      "20\n",
      "33\n",
      "46\n",
      "55\n",
      "Given List: [10, 20, 33, 46, 55]\n",
      "Divisible by 5\n",
      "10\n",
      "20\n",
      "55\n"
     ]
    }
   ],
   "source": [
    "num_list=[]\n",
    "n = int(input('Enter the length of list:'))\n",
    "for num in range(n):\n",
    "    num_list.append(int(input()))\n",
    "\n",
    "op_list = [num for num in num_list if num % 5 == 0]\n",
    "print('Given List:',num_list)\n",
    "print('Divisible by 5',*op_list, sep = '\\n')"
   ]
  },
  {
   "cell_type": "markdown",
   "id": "2739ab85",
   "metadata": {},
   "source": [
    "### Exercise 7: Return the count of a given substring from a string\n",
    "#### Write a program to find how many times substring “Emma” appears in the given string."
   ]
  },
  {
   "cell_type": "code",
   "execution_count": 29,
   "id": "35c9b78b",
   "metadata": {},
   "outputs": [
    {
     "name": "stdout",
     "output_type": "stream",
     "text": [
      "Enter the string: Emma is good developer. Emma is a writer\n",
      "Enter the substring: Emma\n",
      "Emma appeared 2 times\n"
     ]
    }
   ],
   "source": [
    "string = input('Enter the string: ')\n",
    "word_to_count = input('Enter the substring: ')\n",
    "print(f'{word_to_count} appeared {string.count(word_to_count)} times')"
   ]
  },
  {
   "cell_type": "markdown",
   "id": "85732f86",
   "metadata": {},
   "source": [
    "### Exercise 8: Print the following pattern"
   ]
  },
  {
   "cell_type": "markdown",
   "id": "a5c3670c",
   "metadata": {},
   "source": [
    "1\n",
    "\n",
    "22\n",
    "\n",
    "333\n",
    "\n",
    "4444\n",
    "\n",
    "55555"
   ]
  },
  {
   "cell_type": "code",
   "execution_count": 40,
   "id": "6140017b",
   "metadata": {},
   "outputs": [
    {
     "name": "stdout",
     "output_type": "stream",
     "text": [
      "Enter the number: 5\n",
      "1\n",
      "22\n",
      "333\n",
      "4444\n",
      "55555\n"
     ]
    }
   ],
   "source": [
    "n = int(input('Enter the number: '))\n",
    "for i in range(1,n+1):\n",
    "    print(str(i)*i)"
   ]
  },
  {
   "cell_type": "markdown",
   "id": "dceaad73",
   "metadata": {},
   "source": [
    "### Exercise 9: Check Palindrome Number\n",
    "\n",
    "#### Write a program to check if the given number is a palindrome number.\n",
    "\n",
    "#### A palindrome number is a number that is same after reverse. For example 545, is the palindrome numbers"
   ]
  },
  {
   "cell_type": "code",
   "execution_count": 1,
   "id": "3493d357",
   "metadata": {},
   "outputs": [
    {
     "name": "stdout",
     "output_type": "stream",
     "text": [
      "Enter a num: 545\n",
      "Palindrome\n"
     ]
    }
   ],
   "source": [
    "num = input('Enter a num: ')\n",
    "\n",
    "if num == num[::-1]:\n",
    "    print('Palindrome')\n",
    "else:\n",
    "    print('Not Palindrome')"
   ]
  },
  {
   "cell_type": "code",
   "execution_count": 15,
   "id": "45d81dd2",
   "metadata": {},
   "outputs": [
    {
     "name": "stdout",
     "output_type": "stream",
     "text": [
      "Enter a number: 121\n",
      "Palindrome\n"
     ]
    }
   ],
   "source": [
    "n = int(input('Enter a number: '))\n",
    "num = n\n",
    "rev = 0\n",
    "while num > 0:\n",
    "    rev = rev*10 + (num % 10)\n",
    "    num = num // 10\n",
    "\n",
    "if rev == n:\n",
    "    print('Palindrome')\n",
    "else:\n",
    "    print('Not Palindrome')"
   ]
  },
  {
   "cell_type": "markdown",
   "id": "32afc674",
   "metadata": {},
   "source": [
    "### Exercise 10: Create a new list from a two list using the following condition\n",
    "#### Given a two list of numbers, write a program to create a new list such that the new list should contain odd numbers from the first list and even numbers from the second list."
   ]
  },
  {
   "cell_type": "code",
   "execution_count": 28,
   "id": "02ed7ff7",
   "metadata": {},
   "outputs": [
    {
     "name": "stdout",
     "output_type": "stream",
     "text": [
      "Enter the size of List 1: 1\n",
      "1\n",
      "Enter the size of List 2: 2\n",
      "2\n",
      "3\n",
      "[1, 2]\n"
     ]
    }
   ],
   "source": [
    "l1 = []\n",
    "l2 = []\n",
    "\n",
    "n1 = int(input('Enter the size of List 1: '))\n",
    "for n in range(n1):\n",
    "    l1.append(int(input()))\n",
    "    \n",
    "n2 = int(input('Enter the size of List 2: '))\n",
    "for n in range(n2):\n",
    "    l2.append(int(input()))\n",
    "    \n",
    "op = [num for num in l1 if num % 2 != 0]\n",
    "op.extend([num for num in l2 if num % 2 == 0])\n",
    "print(op)"
   ]
  },
  {
   "cell_type": "markdown",
   "id": "55c763da",
   "metadata": {},
   "source": [
    "### Exercise 11: Write a Program to extract each digit from an integer in the reverse order.\n",
    "#### For example, If the given int is 7536, the output shall be “6 3 5 7“, with a space separating the digits."
   ]
  },
  {
   "cell_type": "code",
   "execution_count": 29,
   "id": "b849a3cd",
   "metadata": {},
   "outputs": [
    {
     "name": "stdout",
     "output_type": "stream",
     "text": [
      "Enter a number: 145687\n",
      "7 8 6 5 4 1\n"
     ]
    }
   ],
   "source": [
    "n = int(input('Enter a number: '))\n",
    "rev = []\n",
    "while n > 0:\n",
    "    rev.append(n % 10)\n",
    "    n //= 10\n",
    "print(*rev,sep = ' ')"
   ]
  },
  {
   "cell_type": "code",
   "execution_count": 30,
   "id": "2f210816",
   "metadata": {},
   "outputs": [
    {
     "name": "stdout",
     "output_type": "stream",
     "text": [
      "Enter a number: 145687\n",
      "7 8 6 5 4 1 "
     ]
    }
   ],
   "source": [
    "n = int(input('Enter a number: '))\n",
    "\n",
    "while n > 0:\n",
    "    rev = n % 10\n",
    "    n //= 10\n",
    "    print(rev,end = ' ')"
   ]
  },
  {
   "cell_type": "markdown",
   "id": "a81a4622",
   "metadata": {},
   "source": [
    "### Exercise 12: Calculate income tax for the given income by adhering to the below rules\n",
    "\n",
    "- Taxable Income\tRate (in %)\n",
    "\n",
    "- First $10,000\t0\n",
    "\n",
    "- Next $10,000\t10\n",
    "\n",
    "- The remaining\t20\n",
    "\n",
    "Expected Output:\n",
    "\n",
    "For example, suppose the taxable income is 45000 the income tax payable is\n",
    "\n",
    "10000\\*0% + 10000\\*10%  + 25000*20% = $6000."
   ]
  },
  {
   "cell_type": "code",
   "execution_count": 11,
   "id": "01cc301b",
   "metadata": {},
   "outputs": [
    {
     "name": "stdout",
     "output_type": "stream",
     "text": [
      "Enter the taxable income: 25000\n",
      "Payable tax: 2000.0\n"
     ]
    }
   ],
   "source": [
    "t_inc = int(input('Enter the taxable income: '))\n",
    "\n",
    "if t_inc <= 10_000:\n",
    "    tax = 0\n",
    "elif t_inc <= 20_000:\n",
    "    t_inc -= 20_000\n",
    "    tax = 10_000 * 0.1\n",
    "else:\n",
    "    tax = 0\n",
    "    t_inc -= 20_000\n",
    "    tax = 10_000 * 0.1\n",
    "    tax += t_inc * (20/100)\n",
    "\n",
    "print(f'Payable tax: {tax}')"
   ]
  },
  {
   "cell_type": "markdown",
   "id": "d704cb82",
   "metadata": {},
   "source": [
    "### Exercise 13: Print multiplication table form 1 to 10\n",
    "\n",
    "#### Expected Output:\n",
    "1      2 3 4 5 6 7 8 9 10 \t\t\n",
    "2      4 6 8 10 12 14 16 18 20 \t\t\n",
    "3  6 9 12 15 18 21 24 27 30 \t\t\n",
    "4  8 12 16 20 24 28 32 36 40 \t\t\n",
    "5  10 15 20 25 30 35 40 45 50 \t\t\n",
    "6  12 18 24 30 36 42 48 54 60 \t\t\n",
    "7  14 21 28 35 42 49 56 63 70 \t\t\n",
    "8  16 24 32 40 48 56 64 72 80 \t\t\n",
    "9  18 27 36 45 54 63 72 81 90 \t\t\n",
    "10 20 30 40 50 60 70 80 90 100 "
   ]
  },
  {
   "cell_type": "code",
   "execution_count": 20,
   "id": "885eb0b7",
   "metadata": {},
   "outputs": [
    {
     "name": "stdout",
     "output_type": "stream",
     "text": [
      "Enter the number till which multiplication table needed: 10\n",
      "1\t1 2 3 4 5 6 7 8 9 10 \n",
      "\n",
      "2\t2 4 6 8 10 12 14 16 18 20 \n",
      "\n",
      "3\t3 6 9 12 15 18 21 24 27 30 \n",
      "\n",
      "4\t4 8 12 16 20 24 28 32 36 40 \n",
      "\n",
      "5\t5 10 15 20 25 30 35 40 45 50 \n",
      "\n",
      "6\t6 12 18 24 30 36 42 48 54 60 \n",
      "\n",
      "7\t7 14 21 28 35 42 49 56 63 70 \n",
      "\n",
      "8\t8 16 24 32 40 48 56 64 72 80 \n",
      "\n",
      "9\t9 18 27 36 45 54 63 72 81 90 \n",
      "\n",
      "10\t10 20 30 40 50 60 70 80 90 100 \n",
      "\n"
     ]
    }
   ],
   "source": [
    "num = int(input('Enter the number till which multiplication table needed: '))\n",
    "\n",
    "for n in range(1,num+1):\n",
    "    print(n,end = '\\t')\n",
    "    for m in range(1,11):\n",
    "        print(n*m,end=' ')\n",
    "    print('\\n')"
   ]
  },
  {
   "cell_type": "markdown",
   "id": "0b5ef81d",
   "metadata": {},
   "source": [
    "### Exercise 14: Print downward Half-Pyramid Pattern with Star (asterisk)\n",
    "\n",
    "#### * * * * *  \n",
    "#### * * * *  \n",
    "#### * * *  \n",
    "#### * *  \n",
    "#### *"
   ]
  },
  {
   "cell_type": "code",
   "execution_count": 27,
   "id": "8f6a4b7d",
   "metadata": {},
   "outputs": [
    {
     "name": "stdout",
     "output_type": "stream",
     "text": [
      "Enter the number: 5\n",
      "*****\n",
      "****\n",
      "***\n",
      "**\n",
      "*\n"
     ]
    }
   ],
   "source": [
    "num = int(input('Enter the number: '))\n",
    "\n",
    "for n in range(num):\n",
    "    print('*'*(num-n))"
   ]
  },
  {
   "cell_type": "markdown",
   "id": "8ba36caa",
   "metadata": {},
   "source": [
    "### Exercise 15: Write a function called exponent(base, exp) that returns an int value of base raises to the power of exp.\n",
    "\n",
    "#### Note here exp is a non-negative integer, and the base is an integer.\n",
    "\n",
    "#### Expected output\n",
    "\n",
    "#### Case 1:\n",
    "\n",
    "base = 2\n",
    "\n",
    "exponent = 5\n",
    "\n",
    "2 raises to the power of 5: 32 \n",
    "\n",
    "i.e. (2 *2 * 2 *2 *2 = 32)\n",
    "\n",
    "#### Case 2:\n",
    "\n",
    "base = 5\n",
    "\n",
    "exponent = 4\n",
    "\n",
    "5 raises to the power of 4 is: 625 \n",
    "\n",
    "i.e. (5 *5 * 5 *5 = 625)"
   ]
  },
  {
   "cell_type": "code",
   "execution_count": 29,
   "id": "920f2fe4",
   "metadata": {},
   "outputs": [
    {
     "name": "stdout",
     "output_type": "stream",
     "text": [
      "Enter the base: 5\n",
      "Enter the exp: 4\n",
      "625\n"
     ]
    }
   ],
   "source": [
    "base = int(input('Enter the base: '))\n",
    "exp = int(input('Enter the exp: '))\n",
    "\n",
    "def exponent(base,exp):\n",
    "    return base**exp\n",
    "\n",
    "print(exponent(base,exp))"
   ]
  },
  {
   "cell_type": "markdown",
   "id": "c7cd5f30",
   "metadata": {},
   "source": [
    "## Python Input and Output Exercise"
   ]
  },
  {
   "cell_type": "markdown",
   "id": "339727e9",
   "metadata": {},
   "source": [
    "### Exercise 1: Accept numbers from a user\n",
    "#### Write a program to accept two numbers from the user and calculate multiplication"
   ]
  },
  {
   "cell_type": "code",
   "execution_count": 32,
   "id": "4bfb7c10",
   "metadata": {},
   "outputs": [
    {
     "name": "stdout",
     "output_type": "stream",
     "text": [
      "Enter first number: 4\n",
      "Enter second number: 5\n",
      "Multiplication of both numbers: 20\n"
     ]
    }
   ],
   "source": [
    "num1 = int(input('Enter first number: '))\n",
    "num2 = int(input('Enter second number: '))\n",
    "\n",
    "print('Multiplication of both numbers: {}'.format(num1*num2))"
   ]
  },
  {
   "cell_type": "markdown",
   "id": "001f8a55",
   "metadata": {},
   "source": [
    "### Exercise 2: Display three string “Name”, “Is”, “James” as “Name\\*\\*Is\\*\\*James”\n",
    "#### Use the print() function to format the given words in the mentioned format. Display the ** separator between each string.\n",
    "\n",
    "#### Expected Output:\n",
    "\n",
    "For example: print('Name', 'Is', 'James') will display Name\\*\\*Is\\*\\*James"
   ]
  },
  {
   "cell_type": "code",
   "execution_count": 1,
   "id": "fd5e1287",
   "metadata": {},
   "outputs": [
    {
     "name": "stdout",
     "output_type": "stream",
     "text": [
      "My**Name**Is**James\n"
     ]
    }
   ],
   "source": [
    "print('My', 'Name', 'Is', 'James', sep='**')"
   ]
  },
  {
   "cell_type": "markdown",
   "id": "a7711c21",
   "metadata": {},
   "source": [
    "### Exercise 3: Convert Decimal number to octal using print() output formatting\n",
    "\n",
    "Given:\n",
    "\n",
    "num = 8\n",
    "\n",
    "Expected Output:\n",
    "\n",
    "The octal number of decimal number 8 is 10"
   ]
  },
  {
   "cell_type": "code",
   "execution_count": 6,
   "id": "44f8c123",
   "metadata": {},
   "outputs": [
    {
     "name": "stdout",
     "output_type": "stream",
     "text": [
      "Enter the number: 8\n",
      "The octal number of decimal number 8 is 10\n"
     ]
    }
   ],
   "source": [
    "num = int(input('Enter the number: '))\n",
    "oct1 = oct(num)\n",
    "\n",
    "print(f'The octal number of decimal number {num} is {oct1[2:]}')"
   ]
  },
  {
   "cell_type": "code",
   "execution_count": 8,
   "id": "c099cd78",
   "metadata": {},
   "outputs": [
    {
     "name": "stdout",
     "output_type": "stream",
     "text": [
      "Enter the number: 8\n",
      "10\n"
     ]
    }
   ],
   "source": [
    "num = int(input('Enter the number: '))\n",
    "print('%o' % num)"
   ]
  },
  {
   "cell_type": "markdown",
   "id": "02468ccf",
   "metadata": {},
   "source": [
    "### Exercise 4: Display float number with 2 decimal places using print()\n",
    "\n",
    "Given:\n",
    "\n",
    "num = 458.541315\n",
    "\n",
    "Expected Output:\n",
    "\n",
    "458.54"
   ]
  },
  {
   "cell_type": "code",
   "execution_count": 14,
   "id": "8dea696d",
   "metadata": {},
   "outputs": [
    {
     "name": "stdout",
     "output_type": "stream",
     "text": [
      "Enter the number: 458.541315\n",
      "458.54\n",
      "458.54\n",
      "458.54\n"
     ]
    }
   ],
   "source": [
    "num = float(input('Enter the number: '))\n",
    "print(f'{num:.2f}')\n",
    "print('%.2f' % num)\n",
    "print('{:.2f}'.format(num))"
   ]
  },
  {
   "cell_type": "markdown",
   "id": "95f9e1c5",
   "metadata": {},
   "source": [
    "### Exercise 5: Accept a list of 5 float numbers as an input from the user\n",
    "\n",
    "Expected Output:\n",
    "\n",
    "[78.6, 78.6, 85.3, 1.2, 3.5]"
   ]
  },
  {
   "cell_type": "code",
   "execution_count": 15,
   "id": "8758e371",
   "metadata": {},
   "outputs": [
    {
     "name": "stdout",
     "output_type": "stream",
     "text": [
      "Enter the length of list: 5\n",
      "78.6\n",
      "78.6\n",
      "85.3\n",
      "1.2\n",
      "3.5\n",
      "[78.6, 78.6, 85.3, 1.2, 3.5]\n"
     ]
    }
   ],
   "source": [
    "num = int(input('Enter the length of list: '))\n",
    "f_list = []\n",
    "for n in range(num):\n",
    "    f_list.append(float(input()))\n",
    "print(f_list)"
   ]
  },
  {
   "cell_type": "markdown",
   "id": "aa85161a",
   "metadata": {},
   "source": [
    "### Exercise 6: Write all content of a given file into a new file by skipping line number 5"
   ]
  },
  {
   "cell_type": "code",
   "execution_count": null,
   "id": "198b26b2",
   "metadata": {},
   "outputs": [],
   "source": []
  }
 ],
 "metadata": {
  "kernelspec": {
   "display_name": "Python 3 (ipykernel)",
   "language": "python",
   "name": "python3"
  },
  "language_info": {
   "codemirror_mode": {
    "name": "ipython",
    "version": 3
   },
   "file_extension": ".py",
   "mimetype": "text/x-python",
   "name": "python",
   "nbconvert_exporter": "python",
   "pygments_lexer": "ipython3",
   "version": "3.8.8"
  }
 },
 "nbformat": 4,
 "nbformat_minor": 5
}
